{
 "cells": [
  {
   "cell_type": "code",
   "execution_count": 21,
   "id": "7800fc8f",
   "metadata": {},
   "outputs": [],
   "source": [
    "from pymatgen.ext.matproj import MPRester\n",
    "from pymatgen.symmetry.analyzer import SpacegroupAnalyzer"
   ]
  },
  {
   "cell_type": "code",
   "execution_count": 22,
   "id": "74cc808d",
   "metadata": {},
   "outputs": [],
   "source": [
    "#Téléchargement de la structure\n",
    "with MPRester(\"CEEbAW2taTmupi7NIXR\") as m:\n",
    "    structure = m.get_structure_by_material_id(\"mp-31451\")\n",
    "    structure.to(filename=\"ZrCoBi.cif\")"
   ]
  },
  {
   "cell_type": "code",
   "execution_count": 23,
   "id": "7abbec93",
   "metadata": {},
   "outputs": [
    {
     "name": "stdout",
     "output_type": "stream",
     "text": [
      "Vecteurs de base du réseau direct : \n",
      "\n",
      "a = ( 4.4101316561653805 , 0, 0) \n",
      "\n",
      "b = (0, 4.4101316561653805 , 0) \n",
      "\n",
      "c = (0, 0,  4.4101316561653805 ) \n",
      "\n",
      "Vecteurs de base du réseau réciproque : \n",
      "\n",
      "a* = ( 0.27771163468088106 , 0, 0) \n",
      "\n",
      "b* = (0, 0.27771163468088106 , 0) \n",
      "\n",
      "c* = (0, 0,  0.27771163468088106 ) \n",
      "\n"
     ]
    }
   ],
   "source": [
    "struct = structure.lattice\n",
    "\n",
    "#Réseau direct\n",
    "\n",
    "print(\"Vecteurs de base du réseau direct : \\n\")\n",
    "print(\"a = (\",struct.a,\", 0, 0) \\n\")\n",
    "print(\"b = (0,\",struct.b,\", 0) \\n\")\n",
    "print(\"c = (0, 0, \",struct.c,\") \\n\")\n",
    "\n",
    "#Réseau réciproque\n",
    "\n",
    "a_rec = struct.reciprocal_lattice_crystallographic.a\n",
    "b_rec = struct.reciprocal_lattice_crystallographic.b\n",
    "c_rec = struct.reciprocal_lattice_crystallographic.c\n",
    "print(\"Vecteurs de base du réseau réciproque : \\n\")\n",
    "print(\"a* = (\",a_rec,\", 0, 0) \\n\")\n",
    "print(\"b* = (0,\",b_rec,\", 0) \\n\")\n",
    "print(\"c* = (0, 0, \",c_rec,\") \\n\")"
   ]
  },
  {
   "cell_type": "code",
   "execution_count": 24,
   "id": "a3d12a52",
   "metadata": {},
   "outputs": [
    {
     "name": "stdout",
     "output_type": "stream",
     "text": [
      "Type de maille :  cubic faces centrées \n",
      "\n"
     ]
    }
   ],
   "source": [
    "analyser = SpacegroupAnalyzer(structure)\n",
    "\n",
    "#Détermination du type de maille\n",
    "maille = analyser.get_lattice_type()\n",
    "print(\"Type de maille : \",sys,\"faces centrées \\n\")"
   ]
  },
  {
   "cell_type": "code",
   "execution_count": 25,
   "id": "7d17d862",
   "metadata": {},
   "outputs": [
    {
     "name": "stdout",
     "output_type": "stream",
     "text": [
      "Système cristallin :  cubic  \n",
      "\n"
     ]
    }
   ],
   "source": [
    "#Détermination du système cristallin\n",
    "sys = analyser.get_crystal_system() #système cristallin\n",
    "print(\"Système cristallin : \",sys,\" \\n\")"
   ]
  },
  {
   "cell_type": "code",
   "execution_count": 26,
   "id": "3434c2d5",
   "metadata": {},
   "outputs": [
    {
     "name": "stdout",
     "output_type": "stream",
     "text": [
      "Groupe ponctuel :  -43m  \n",
      "\n"
     ]
    }
   ],
   "source": [
    "#Détermination du groupe ponctuel\n",
    "group = analyser.get_point_group_symbol()\n",
    "print(\"Groupe ponctuel : \",groupe,\" \\n\")"
   ]
  }
 ],
 "metadata": {
  "kernelspec": {
   "display_name": "Python 3",
   "language": "python",
   "name": "python3"
  },
  "language_info": {
   "codemirror_mode": {
    "name": "ipython",
    "version": 3
   },
   "file_extension": ".py",
   "mimetype": "text/x-python",
   "name": "python",
   "nbconvert_exporter": "python",
   "pygments_lexer": "ipython3",
   "version": "3.6.8"
  }
 },
 "nbformat": 4,
 "nbformat_minor": 5
}
