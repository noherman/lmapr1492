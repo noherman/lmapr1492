{
 "cells": [
  {
   "cell_type": "code",
   "execution_count": 235,
   "id": "5b30ac3c",
   "metadata": {},
   "outputs": [],
   "source": [
    "from pymatgen import Structure\n",
    "from pymatgen.symmetry.analyzer import SpacegroupAnalyzer\n",
    "from pymatgen.ext.matproj import MPRester\n",
    "from jupyter_jsmol.pymatgen import quick_view"
   ]
  },
  {
   "cell_type": "code",
   "execution_count": 236,
   "id": "185467d8",
   "metadata": {},
   "outputs": [],
   "source": [
    "#Téléchargement de la structure\n",
    "with MPRester(\"CEEbAW2taTmupi7NIXR\") as m:\n",
    "    structure = m.get_structure_by_material_id(\"mp-31451\")"
   ]
  },
  {
   "cell_type": "code",
   "execution_count": 237,
   "id": "a0976567",
   "metadata": {},
   "outputs": [
    {
     "name": "stdout",
     "output_type": "stream",
     "text": [
      "Zr :  [0.  0.5 0.5]\n",
      "Co :  [0.25 0.25 0.75]\n",
      "Bi :  [0.  0.  0.5]\n"
     ]
    }
   ],
   "source": [
    "#Structure conventionnelle\n",
    "conv_structure = SpacegroupAnalyzer(structure).get_conventional_standard_structure()\n",
    "\n",
    "#Tableau des symétries\n",
    "sym_tab = SpacegroupAnalyzer(conv_structure).get_symmetry_operations()\n",
    "\n",
    "#Sites des différents atomes dans la maille\n",
    "atom_sites = conv_structure.sites\n",
    "\n",
    "#Coordonnées de 3 atomes différents avant symétrie :\n",
    "Zr = atom_sites[1].frac_coords\n",
    "Co = atom_sites[4].frac_coords\n",
    "Bi = atom_sites[10].frac_coords\n",
    "print(\"Zr : \",Zr)\n",
    "print(\"Co : \",Co)\n",
    "print(\"Bi : \",Bi)"
   ]
  },
  {
   "cell_type": "markdown",
   "id": "51affd73",
   "metadata": {},
   "source": [
    "# Symétrie sur l'atome de Zirconium (Zr)"
   ]
  },
  {
   "cell_type": "code",
   "execution_count": 238,
   "id": "8bbfbffd",
   "metadata": {},
   "outputs": [
    {
     "name": "stdout",
     "output_type": "stream",
     "text": [
      "Opération de symétrie : rotation hélicoïdale autour de l'axe b avec translation\n",
      "Opérateur sous forme matricielle : \n",
      " [[-1.  0.  0.]\n",
      " [ 0.  1.  0.]\n",
      " [ 0.  0. -1.]]\n",
      "Vecteur de translation : \n",
      " [0.  0.5 0.5]\n",
      "\n",
      "\n",
      "Coordonnées de l'atome Zr avant symétrie :  [0.  0.5 0.5]\n",
      "Coordonnées de l'atome Zr après symétrie :  [0. 1. 0.]\n"
     ]
    }
   ],
   "source": [
    "Zr_sym = sym_tab[78].operate(Zr)\n",
    "\n",
    "print(\"Opération de symétrie : rotation hélicoïdale autour de l'axe b avec translation\")\n",
    "print(\"Opérateur sous forme matricielle : \\n\", sym_tab[78].rotation_matrix)\n",
    "print(\"Vecteur de translation : \\n\", sym_tab[78].translation_vector)\n",
    "print(\"\\n\")\n",
    "print(\"Coordonnées de l'atome Zr avant symétrie : \",Zr)\n",
    "print(\"Coordonnées de l'atome Zr après symétrie : \", Zr_sym)"
   ]
  },
  {
   "cell_type": "code",
   "execution_count": 239,
   "id": "270d1e7e",
   "metadata": {
    "scrolled": true
   },
   "outputs": [
    {
     "data": {
      "application/vnd.jupyter.widget-view+json": {
       "model_id": "96fdc97359c94309897ab7d7a7cbe2da",
       "version_major": 2,
       "version_minor": 0
      },
      "text/plain": [
       "JsmolView(layout=Layout(align_self='stretch', height='400px'))"
      ]
     },
     "metadata": {},
     "output_type": "display_data"
    }
   ],
   "source": [
    "#Représentation selon jupyter-jsmol\n",
    "view = quick_view(conv_structure, supercell= [1,1,1])\n",
    "display(view)\n",
    "view.script('draw symop 79 {atomno = 38}; select atomno=38; label on; color red')"
   ]
  },
  {
   "cell_type": "markdown",
   "id": "fcdfae5e",
   "metadata": {},
   "source": [
    "# Symétrie sur l'atome de Cobalt (Co)"
   ]
  },
  {
   "cell_type": "code",
   "execution_count": 240,
   "id": "5d3a1e8c",
   "metadata": {},
   "outputs": [
    {
     "name": "stdout",
     "output_type": "stream",
     "text": [
      "Opération de symétrie : rotation d'ordre 2 autour de l'axe c\n",
      "Opérateur sous forme matricielle : \n",
      " [[-1.  0.  0.]\n",
      " [ 0. -1.  0.]\n",
      " [ 0.  0.  1.]]\n",
      "Vecteur de translation : \n",
      " [0. 0. 0.] \n",
      " Logique car aucune translation\n",
      "\n",
      "\n",
      "Coordonnées de l'atome Co avant symétrie :  [0.25 0.25 0.75]\n",
      "Coordonnées de l'atome Co après symétrie :  [-0.25 -0.25  0.75]\n"
     ]
    }
   ],
   "source": [
    "Co_sym = sym_tab[2].operate(Co)\n",
    "\n",
    "print(\"Opération de symétrie : rotation d'ordre 2 autour de l'axe c\")\n",
    "print(\"Opérateur sous forme matricielle : \\n\", sym_tab[2].rotation_matrix)\n",
    "print(\"Vecteur de translation : \\n\", sym_tab[2].translation_vector,\"\\n Logique car aucune translation\")\n",
    "print(\"\\n\")\n",
    "print(\"Coordonnées de l'atome Co avant symétrie : \",Co)\n",
    "print(\"Coordonnées de l'atome Co après symétrie : \", Co_sym)"
   ]
  },
  {
   "cell_type": "code",
   "execution_count": 246,
   "id": "85828f53",
   "metadata": {},
   "outputs": [
    {
     "data": {
      "application/vnd.jupyter.widget-view+json": {
       "model_id": "79617b831fac49fc9ee71cc679e110e7",
       "version_major": 2,
       "version_minor": 0
      },
      "text/plain": [
       "JsmolView(layout=Layout(align_self='stretch', height='400px'))"
      ]
     },
     "metadata": {},
     "output_type": "display_data"
    }
   ],
   "source": [
    "#Représentation selon jupyter-jsmol\n",
    "view = quick_view(conv_structure,supercell=[1,1,1])\n",
    "display(view)\n",
    "view.script('draw symop 3 {atomno = 2}; select atomno=2; label on; color red')"
   ]
  },
  {
   "cell_type": "markdown",
   "id": "4161c732",
   "metadata": {},
   "source": [
    "# Symétrie sur l'atome de Bismuth (Bi)"
   ]
  },
  {
   "cell_type": "code",
   "execution_count": 242,
   "id": "6030bac4",
   "metadata": {},
   "outputs": [
    {
     "name": "stdout",
     "output_type": "stream",
     "text": [
      "Opération de symétrie : plan miroir\n",
      "Opérateur sous forme matricielle : \n",
      " [[ 1.  0.  0.]\n",
      " [ 0.  0. -1.]\n",
      " [ 0. -1.  0.]]\n",
      "Vecteur de translation : \n",
      " [0. 0. 0.] \n",
      " Logique car aucune translation\n",
      "\n",
      "\n",
      "Coordonnées de l'atome Bi avant symétrie :  [0.  0.  0.5]\n",
      "Coordonnées de l'atome Bi après symétrie :  [ 0.  -0.5  0. ]\n"
     ]
    }
   ],
   "source": [
    "Bi_sym = sym_tab[19].operate(Bi)\n",
    "\n",
    "print(\"Opération de symétrie : plan miroir\")\n",
    "print(\"Opérateur sous forme matricielle : \\n\", sym_tab[19].rotation_matrix)\n",
    "print(\"Vecteur de translation : \\n\", sym_tab[19].translation_vector,\"\\n Logique car aucune translation\")\n",
    "print(\"\\n\")\n",
    "print(\"Coordonnées de l'atome Bi avant symétrie : \",Bi)\n",
    "print(\"Coordonnées de l'atome Bi après symétrie : \", Bi_sym)"
   ]
  },
  {
   "cell_type": "code",
   "execution_count": 245,
   "id": "b5dd9218",
   "metadata": {},
   "outputs": [
    {
     "data": {
      "application/vnd.jupyter.widget-view+json": {
       "model_id": "5eb9704c3dfd42299043aa5dac596afa",
       "version_major": 2,
       "version_minor": 0
      },
      "text/plain": [
       "JsmolView(layout=Layout(align_self='stretch', height='400px'))"
      ]
     },
     "metadata": {},
     "output_type": "display_data"
    }
   ],
   "source": [
    "#Représentation selon jupyter-jsmol\n",
    "view = quick_view(conv_structure,supercell=[1,1,1])\n",
    "display(view)\n",
    "view.script('draw symop 20 {atomno = 3}; select atomno=3; label on; color red')"
   ]
  }
 ],
 "metadata": {
  "kernelspec": {
   "display_name": "Python 3",
   "language": "python",
   "name": "python3"
  },
  "language_info": {
   "codemirror_mode": {
    "name": "ipython",
    "version": 3
   },
   "file_extension": ".py",
   "mimetype": "text/x-python",
   "name": "python",
   "nbconvert_exporter": "python",
   "pygments_lexer": "ipython3",
   "version": "3.6.8"
  }
 },
 "nbformat": 4,
 "nbformat_minor": 5
}
